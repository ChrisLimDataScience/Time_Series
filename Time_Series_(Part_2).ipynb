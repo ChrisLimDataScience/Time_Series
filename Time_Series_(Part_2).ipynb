{
  "nbformat": 4,
  "nbformat_minor": 0,
  "metadata": {
    "colab": {
      "name": "Chris's ITP449 Time Series (Part 2).ipynb",
      "provenance": [],
      "collapsed_sections": []
    },
    "kernelspec": {
      "name": "python3",
      "display_name": "Python 3"
    }
  },
  "cells": [
    {
      "cell_type": "markdown",
      "metadata": {
        "id": "yM5qWrtgw5Vz"
      },
      "source": [
        "# ARIMA"
      ]
    },
    {
      "cell_type": "markdown",
      "metadata": {
        "id": "J4wtYOO4_YKk"
      },
      "source": [
        "We will create an ARIMA Model for Time Series Forecasting in Python.\n",
        "\n",
        "ARIMA is a widely used statistical method for analyzing and forecasting time series data. ARIMA is an acronym that stands for AutoRegressive Integrated Moving Average. \n",
        "\n",
        "It consists of a suite of standard structures in time series data and provides a simple yet powerful method for making skillful time series forecasts."
      ]
    },
    {
      "cell_type": "markdown",
      "metadata": {
        "id": "NxSZQUk6GcRs"
      },
      "source": [
        "**AR: Autoregression.** A model that uses the dependent relationship between an observation and some number of lagged observations.\n",
        "\n",
        "**I: Integrated.** The use of differencing of raw observations (e.g. subtracting an observation from an observation at the previous time step) in order to make the time series stationary.\n",
        "\n",
        "**MA: Moving Average.** A model that uses the dependency between an observation and a residual error from a moving average model applied to lagged observations.\n",
        "\n",
        "Each of these components are explicitly specified in the model as a parameter. A standard notation is used of ARIMA(p,d,q) where the parameters are substituted with integer values to quickly indicate the specific ARIMA model being used.\n",
        "\n",
        "The parameters of the ARIMA model are defined as follows:\n",
        "\n",
        "**p:** The number of lag observations included in the model, also called the lag order.\n",
        "\n",
        "**d:** The number of times that the raw observations are differenced, also called the degree of differencing.\n",
        "\n",
        "**q:** The size of the moving average window, also called the order of moving average.\n",
        "\n",
        "A linear regression model is constructed including the specified number and type of terms, and the data is prepared by a degree of differencing in order to make it stationary, i.e. to remove trend and seasonal structures that negatively affect the regression model.\n",
        "\n",
        "A value of 0 can be used for a parameter, which indicates to not use that element of the model. This way, the ARIMA model can be configured to perform the function of an ARMA model, and even a simple AR, I, or MA model.\n"
      ]
    },
    {
      "cell_type": "markdown",
      "metadata": {
        "id": "FrJVvLtJAimr"
      },
      "source": [
        "### Using the ARIMA model in Python"
      ]
    },
    {
      "cell_type": "markdown",
      "metadata": {
        "id": "DbbolAFoAt9I"
      },
      "source": [
        "The Dataset - **Shampoo Sales Dataset**\n",
        "\n",
        "This dataset describes the monthly number of sales of shampoo over a 3 year period.\n",
        "\n",
        "There are 36 observations"
      ]
    },
    {
      "cell_type": "code",
      "metadata": {
        "id": "h4IFK4LKAtb6"
      },
      "source": [
        "import pandas as pd\n",
        "from datetime import datetime\n",
        "import matplotlib.pyplot as plt"
      ],
      "execution_count": null,
      "outputs": []
    },
    {
      "cell_type": "code",
      "metadata": {
        "id": "cXrhLxb_BFON"
      },
      "source": [
        "# function used in next cell to parse date in particular format\n",
        "\n",
        "# We are baselining the dataset in an arbitrary year (2000 in our case)\n",
        "def parser(x):\n",
        "  return datetime.strptime('200'+x, '%Y-%m')"
      ],
      "execution_count": null,
      "outputs": []
    },
    {
      "cell_type": "code",
      "metadata": {
        "id": "o15rcLli_PW7",
        "colab": {
          "base_uri": "https://localhost:8080/",
          "height": 410
        },
        "outputId": "236f7fec-20d0-4bb0-eba7-36fd36a660ea"
      },
      "source": [
        "# read data, convert the date to right format\n",
        "# plot data as a time series with the month along the x-axis and sales figures on the y-axis\n",
        "data = pd.read_csv('shampoo.csv', header=0, index_col=0, parse_dates=[0], squeeze=True, date_parser=parser)\n",
        "print(data.head())\n",
        "#print(data)\n",
        "\n",
        "data.plot()\n",
        "plt.show()"
      ],
      "execution_count": null,
      "outputs": [
        {
          "output_type": "stream",
          "text": [
            "Month\n",
            "2001-01-01    266.0\n",
            "2001-02-01    145.9\n",
            "2001-03-01    183.1\n",
            "2001-04-01    119.3\n",
            "2001-05-01    180.3\n",
            "Name: Sales, dtype: float64\n"
          ],
          "name": "stdout"
        },
        {
          "output_type": "display_data",
          "data": {
            "image/png": "[encoded data removed]",
            "text/plain": [
              "<Figure size 432x288 with 1 Axes>"
            ]
          },
          "metadata": {
            "tags": [],
            "needs_background": "light"
          }
        }
      ]
    },
    {
      "cell_type": "markdown",
      "metadata": {
        "id": "7URkk0v8DoL-"
      },
      "source": [
        "Notice that the Shampoo Sales dataset has a clear trend. \n",
        "\n",
        "This suggests that the time series is not stationary and will require differencing to make it stationary, at least a difference order of 1."
      ]
    },
    {
      "cell_type": "markdown",
      "metadata": {
        "id": "75N5LIkUF8yo"
      },
      "source": [
        "Plot the autocorrelation for a large number of lags in the time series."
      ]
    },
    {
      "cell_type": "code",
      "metadata": {
        "id": "cD2cvZhUF_in",
        "colab": {
          "base_uri": "https://localhost:8080/",
          "height": 283
        },
        "outputId": "7ea43549-f1f1-46ff-ea8f-4b548f1a960f"
      },
      "source": [
        "from pandas.plotting import autocorrelation_plot\n",
        "\n",
        "autocorrelation_plot(data)\n",
        "plt.show()"
      ],
      "execution_count": null,
      "outputs": [
        {
          "output_type": "display_data",
          "data": {
            "image/png": "[encoded data removed]",
            "text/plain": [
              "<Figure size 432x288 with 1 Axes>"
            ]
          },
          "metadata": {
            "tags": [],
            "needs_background": "light"
          }
        }
      ]
    },
    {
      "cell_type": "markdown",
      "metadata": {
        "id": "XtiTamPzGODs"
      },
      "source": [
        "We can see that there is a positive correlation with the first 10-to-12 lags that is perhaps significant for the first 5 lags.\n",
        "\n",
        "A good starting point for the **AR** parameter of the model may be 5.\n",
        "\n",
        "An ARIMA model can be created using the statsmodels library as follows:\n",
        "\n",
        "- Define the model by calling ARIMA() and passing in the p, d, and q parameters.\n",
        "- The model is prepared on the training data by calling the fit() function.\n",
        "- Predictions can be made by calling the predict() function and specifying the index of the time or times to be predicted.\n",
        "\n",
        "First, we fit an ARIMA(5,1,0) model. This sets the lag value to 5 for autoregression, uses a difference order of 1 to make the time series stationary, and uses a moving average model of 0."
      ]
    },
    {
      "cell_type": "code",
      "metadata": {
        "colab": {
          "base_uri": "https://localhost:8080/",
          "height": 1000
        },
        "id": "MMYuGulBRVA2",
        "outputId": "1ef02be4-161d-4386-d2ed-1ad22249ac5e"
      },
      "source": [
        "from statsmodels.tsa.arima_model import ARIMA\n",
        "\n",
        "#data.index = data.index.to_period('M')\n",
        "\n",
        "# fit model\n",
        "model = ARIMA(data, order=(5,1,0))\n",
        "model_fit = model.fit()\n",
        "# summary of fit model\n",
        "print(model_fit.summary())\n",
        "# line plot of residuals\n",
        "residuals = pd.DataFrame(model_fit.resid)\n",
        "residuals.plot()\n",
        "plt.show()\n",
        "# density plot of residuals\n",
        "residuals.plot(kind='kde')\n",
        "plt.show()\n",
        "# summary stats of residuals\n",
        "print(residuals.describe())\n",
        "\n",
        "# This summarizes the coefficient values used as well as the skill of the fit on the on the in-sample observations.\n",
        "\n",
        "# We get a line plot of the residual errors, \n",
        "# suggesting that there may still be some trend information not captured by the model.\n",
        "\n",
        "# We also get a density plot of the residual error values, \n",
        "# suggesting the errors are Gaussian, but may not be centered on zero.\n",
        "\n",
        "# Finally, distribution of the residual errors is displayed. \n",
        "# The results show that indeed there is a bias in the prediction (a non-zero mean in the residuals)."
      ],
      "execution_count": null,
      "outputs": [
        {
          "output_type": "stream",
          "text": [
            "/usr/local/lib/python3.6/dist-packages/statsmodels/tools/_testing.py:19: FutureWarning: pandas.util.testing is deprecated. Use the functions in the public API at pandas.testing instead.\n",
            "  import pandas.util.testing as tm\n",
            "/usr/local/lib/python3.6/dist-packages/statsmodels/tsa/base/tsa_model.py:165: ValueWarning: No frequency information was provided, so inferred frequency MS will be used.\n",
            "  % freq, ValueWarning)\n",
            "/usr/local/lib/python3.6/dist-packages/statsmodels/tsa/base/tsa_model.py:165: ValueWarning: No frequency information was provided, so inferred frequency MS will be used.\n",
            "  % freq, ValueWarning)\n"
          ],
          "name": "stderr"
        },
        {
          "output_type": "stream",
          "text": [
            "                             ARIMA Model Results                              \n",
            "==============================================================================\n",
            "Dep. Variable:                D.Sales   No. Observations:                   35\n",
            "Model:                 ARIMA(5, 1, 0)   Log Likelihood                -196.170\n",
            "Method:                       css-mle   S.D. of innovations             64.241\n",
            "Date:                Wed, 17 Feb 2021   AIC                            406.340\n",
            "Time:                        03:28:54   BIC                            417.227\n",
            "Sample:                    02-01-2001   HQIC                           410.098\n",
            "                         - 12-01-2003                                         \n",
            "=================================================================================\n",
            "                    coef    std err          z      P>|z|      [0.025      0.975]\n",
            "---------------------------------------------------------------------------------\n",
            "const            12.0649      3.652      3.304      0.003       4.908      19.222\n",
            "ar.L1.D.Sales    -1.1082      0.183     -6.063      0.000      -1.466      -0.750\n",
            "ar.L2.D.Sales    -0.6203      0.282     -2.203      0.036      -1.172      -0.068\n",
            "ar.L3.D.Sales    -0.3606      0.295     -1.222      0.231      -0.939       0.218\n",
            "ar.L4.D.Sales    -0.1252      0.280     -0.447      0.658      -0.674       0.424\n",
            "ar.L5.D.Sales     0.1289      0.191      0.673      0.506      -0.246       0.504\n",
            "                                    Roots                                    \n",
            "=============================================================================\n",
            "                  Real          Imaginary           Modulus         Frequency\n",
            "-----------------------------------------------------------------------------\n",
            "AR.1           -1.0617           -0.5064j            1.1763           -0.4292\n",
            "AR.2           -1.0617           +0.5064j            1.1763            0.4292\n",
            "AR.3            0.0816           -1.3804j            1.3828           -0.2406\n",
            "AR.4            0.0816           +1.3804j            1.3828            0.2406\n",
            "AR.5            2.9315           -0.0000j            2.9315           -0.0000\n",
            "-----------------------------------------------------------------------------\n"
          ],
          "name": "stdout"
        },
        {
          "output_type": "display_data",
          "data": {
            "image/png": "[encoded data removed]",
            "text/plain": [
              "<Figure size 432x288 with 1 Axes>"
            ]
          },
          "metadata": {
            "tags": [],
            "needs_background": "light"
          }
        },
        {
          "output_type": "display_data",
          "data": {
            "image/png": "[encoded data removed]",
            "text/plain": [
              "<Figure size 432x288 with 1 Axes>"
            ]
          },
          "metadata": {
            "tags": [],
            "needs_background": "light"
          }
        },
        {
          "output_type": "stream",
          "text": [
            "                0\n",
            "count   35.000000\n",
            "mean    -5.495223\n",
            "std     68.132882\n",
            "min   -133.296638\n",
            "25%    -42.477902\n",
            "50%     -7.186558\n",
            "75%     24.748322\n",
            "max    133.237947\n"
          ],
          "name": "stdout"
        }
      ]
    },
    {
      "cell_type": "markdown",
      "metadata": {
        "id": "bUGBoaTgloud"
      },
      "source": [
        "Note - although we used the entire dataset for time series analysis, ideally we would perform this analysis on just the training dataset when developing a predictive model."
      ]
    },
    {
      "cell_type": "markdown",
      "metadata": {
        "id": "KfEhZEGSlvgf"
      },
      "source": [
        "### Rolling Forecast ARIMA Model\n",
        "\n",
        "ARIMA model can be used to forecast future time stamps.\n",
        "\n",
        "We can use the predict() function on the ARIMAResults object to make predictions. It accepts the index of the time steps to make predictions as arguments. These indexes are relative to the start of the training dataset used to make predictions.\n",
        "\n",
        "We can split the training dataset into train and test sets, use the train set to fit the model, and generate a prediction for each element on the test set.\n",
        "\n",
        "A rolling forecast is required given the dependence on observations in prior time steps for differencing and the AR model. A crude way to perform this rolling forecast is to re-create the ARIMA model after each new observation is received.\n",
        "\n",
        "We manually keep track of all observations in a list called history that is seeded with the training data and to which new observations are appended each iteration."
      ]
    },
    {
      "cell_type": "markdown",
      "metadata": {
        "id": "07DuOEKOu8ja"
      },
      "source": [
        "Running the example prints the prediction and expected value each iteration.\n",
        "\n",
        "We can also calculate a final root mean squared error score (RMSE) for the predictions, providing a point of comparison for other ARIMA configurations.\n",
        "\n",
        "A line plot is created showing the expected values (blue) compared to the rolling forecast predictions (red). We can see the values show some trend and are in the correct scale.\n",
        "\n",
        "The model could use further tuning of the p, d, and maybe even the q parameters."
      ]
    },
    {
      "cell_type": "code",
      "metadata": {
        "colab": {
          "base_uri": "https://localhost:8080/",
          "height": 507
        },
        "id": "4TtWQd6RulJ3",
        "outputId": "d26817a0-1a26-4635-aebd-a8e5fb948312"
      },
      "source": [
        "from sklearn.metrics import mean_squared_error\n",
        "from math import sqrt\n",
        "\n",
        "X = data.values\n",
        "size = int(len(X) * 0.66)\n",
        "train, test = X[0:size], X[size:len(X)]\n",
        "history = [x for x in train]\n",
        "predictions = list()\n",
        "# walk-forward validation\n",
        "for t in range(len(test)):\n",
        "\tmodel = ARIMA(history, order=(5,1,0))\n",
        "\tmodel_fit = model.fit()\n",
        "\toutput = model_fit.forecast()\n",
        "\tyhat = output[0]\n",
        "\tpredictions.append(yhat)\n",
        "\tobs = test[t]\n",
        "\thistory.append(obs)\n",
        "\tprint('predicted=%f, expected=%f' % (yhat, obs))\n",
        "# evaluate forecasts\n",
        "rmse = sqrt(mean_squared_error(test, predictions))\n",
        "print('Test RMSE: %.3f' % rmse)\n",
        "# plot forecasts against actual outcomes\n",
        "plt.plot(test)\n",
        "plt.plot(predictions, color='red')\n",
        "plt.show()"
      ],
      "execution_count": null,
      "outputs": [
        {
          "output_type": "stream",
          "text": [
            "predicted=349.117773, expected=342.300000\n",
            "predicted=306.512989, expected=339.700000\n",
            "predicted=387.376418, expected=440.400000\n",
            "predicted=348.154132, expected=315.900000\n",
            "predicted=386.308780, expected=439.300000\n",
            "predicted=356.082032, expected=401.300000\n",
            "predicted=446.379500, expected=437.400000\n",
            "predicted=394.737242, expected=575.500000\n",
            "predicted=434.915524, expected=407.600000\n",
            "predicted=507.923412, expected=682.000000\n",
            "predicted=435.482873, expected=475.300000\n",
            "predicted=652.743762, expected=581.300000\n",
            "predicted=546.343510, expected=646.900000\n",
            "Test RMSE: 83.417\n"
          ],
          "name": "stdout"
        },
        {
          "output_type": "display_data",
          "data": {
            "image/png": "[encoded data removed]",
            "text/plain": [
              "<Figure size 432x288 with 1 Axes>"
            ]
          },
          "metadata": {
            "tags": [],
            "needs_background": "light"
          }
        }
      ]
    },
    {
      "cell_type": "markdown",
      "metadata": {
        "id": "I_hxjLYTu0J5"
      },
      "source": [
        ""
      ]
    },
    {
      "cell_type": "markdown",
      "metadata": {
        "id": "fGgfVkTxAmGw"
      },
      "source": [
        "# Prophet"
      ]
    },
    {
      "cell_type": "markdown",
      "metadata": {
        "id": "VDTX2ID2jN69"
      },
      "source": [
        "Prophet library is an open-source library developed by Facebook and designed for automatic forecasting of univariate time series data.\n",
        "\n",
        "Prophet implements what they refer to as an additive time series forecasting model, and the implementation supports trends, seasonality, and holidays.\n",
        "\n",
        "It is easy to use and designed to automatically find a good set of hyperparameters for the model in an effort to make skillful forecasts for data with trends and seasonal structure by default.\n",
        "\n",
        "NOTE : For a great overview of Prophet and its capabilities, see the post: [Prophet: forecasting at scale, 2017.\n",
        "](https://research.fb.com/blog/2017/02/prophet-forecasting-at-scale/)"
      ]
    },
    {
      "cell_type": "markdown",
      "metadata": {
        "id": "xNL4A2VOYG6u"
      },
      "source": [
        "## **USING THE PROPHET MODEL IN PYTHON**"
      ]
    },
    {
      "cell_type": "code",
      "metadata": {
        "id": "QBkGqy0tkSKy",
        "colab": {
          "base_uri": "https://localhost:8080/"
        },
        "outputId": "0e313121-37a4-4cd1-9f18-401804627c53"
      },
      "source": [
        "# prophet library\n",
        "import fbprophet\n",
        "\n",
        "# print version number\n",
        "print('Prophet %s' % fbprophet.__version__)"
      ],
      "execution_count": null,
      "outputs": [
        {
          "output_type": "stream",
          "text": [
            "Prophet 0.7.1\n"
          ],
          "name": "stdout"
        }
      ]
    },
    {
      "cell_type": "markdown",
      "metadata": {
        "id": "PRMwupRJk-DW"
      },
      "source": [
        "### Dataset"
      ]
    },
    {
      "cell_type": "markdown",
      "metadata": {
        "id": "GJZKARs4ib8_"
      },
      "source": [
        "The Dataset - **Car Sales Dataset** - https://raw.githubusercontent.com/jbrownlee/Datasets/master/monthly-car-sales.csv (You can either download the dataset or use the link directly to get the data as shown below)\n",
        "\n",
        "It is a standard univariate time series dataset that contains both a trend and seasonality. The dataset has 108 months of data and a naive persistence forecast can achieve a mean absolute error of about 3,235 sales, providing a lower error limit."
      ]
    },
    {
      "cell_type": "markdown",
      "metadata": {
        "id": "cEY5fVYelfVE"
      },
      "source": [
        "### Load and Summarize Dataset\n",
        "\n",
        "Prophet requires data to be in Pandas DataFrames. Therefore, we will load and summarize the data using Pandas"
      ]
    },
    {
      "cell_type": "code",
      "metadata": {
        "colab": {
          "base_uri": "https://localhost:8080/"
        },
        "id": "KMv78fcWlySo",
        "outputId": "bba5c5e0-39fb-4a48-d7c0-8387c1b00bf2"
      },
      "source": [
        "# load the car sales dataset\n",
        "import pandas as pd\n",
        "# load data\n",
        "path = 'https://raw.githubusercontent.com/jbrownlee/Datasets/master/monthly-car-sales.csv'\n",
        "df = pd.read_csv(path, header=0)\n",
        "\n",
        "# summarize shape\n",
        "print(df.shape)\n",
        "\n",
        "# show first few rows\n",
        "print(df.head())"
      ],
      "execution_count": null,
      "outputs": [
        {
          "output_type": "stream",
          "text": [
            "(108, 2)\n",
            "     Month  Sales\n",
            "0  1960-01   6550\n",
            "1  1960-02   8728\n",
            "2  1960-03  12026\n",
            "3  1960-04  14395\n",
            "4  1960-05  14587\n"
          ],
          "name": "stdout"
        }
      ]
    },
    {
      "cell_type": "markdown",
      "metadata": {
        "id": "vlw2-J2xmGcR"
      },
      "source": [
        "### Load and Plot Dataset"
      ]
    },
    {
      "cell_type": "code",
      "metadata": {
        "id": "eMSq7puXmQaT",
        "colab": {
          "base_uri": "https://localhost:8080/",
          "height": 265
        },
        "outputId": "5edc00da-ed60-468a-929d-52c20447b0b0"
      },
      "source": [
        "# load and plot the car sales dataset\n",
        "import matplotlib.pyplot as plt\n",
        "\n",
        "# plot the time series\n",
        "df.plot()\n",
        "plt.show()\n",
        "\n",
        "# We can clearly see from the output, the trend in sales over time and a monthly seasonal pattern to the sales. \n",
        "# These are patterns we expect the forecast model to take into account."
      ],
      "execution_count": null,
      "outputs": [
        {
          "output_type": "display_data",
          "data": {
            "image/png": "[encoded data removed]",
            "text/plain": [
              "<Figure size 432x288 with 1 Axes>"
            ]
          },
          "metadata": {
            "tags": [],
            "needs_background": "light"
          }
        }
      ]
    },
    {
      "cell_type": "markdown",
      "metadata": {
        "id": "HqnxaVmhm047"
      },
      "source": [
        "## **FORECAST Car Sales With PROPHET**\n",
        "We will use Prophet to forecast the car sales dataset. \n",
        "\n",
        "Let’s start by fitting a model on the dataset."
      ]
    },
    {
      "cell_type": "markdown",
      "metadata": {
        "id": "OmrXr0m3ZVS-"
      },
      "source": [
        "### Fit Prophet Model\n",
        "\n",
        "To use Prophet for forecasting, first, a Prophet() object is defined and configured, then it is fit on the dataset by calling the fit() function and passing the data.\n",
        "\n",
        "The Prophet() object takes arguments to configure the type of model you want, such as the type of growth, the type of seasonality, and more. By default, the model will work hard to figure out almost everything automatically.\n",
        "\n",
        "The fit() function takes a DataFrame of time series data. The DataFrame must have a specific format. The first column must have the name ‘ds‘ and contain the date-times. The second column must have the name ‘y‘ and contain the observations.\n",
        "\n",
        "This means we change the column names in the dataset. It also requires that the first column be converted to date-time objects, if they are not already.\n",
        "\n",
        "For example, we can modify our loaded car sales dataset to have this expected structure, as follows:"
      ]
    },
    {
      "cell_type": "code",
      "metadata": {
        "id": "zh9acaVqa5yt",
        "colab": {
          "base_uri": "https://localhost:8080/",
          "height": 419
        },
        "outputId": "5fa5e5ea-0e3f-4add-f9ac-5183ca076efb"
      },
      "source": [
        "# prepare expected column names\n",
        "df.columns = ['ds', 'y']\n",
        "df['ds']= pd.to_datetime(df['ds'])\n",
        "df"
      ],
      "execution_count": null,
      "outputs": [
        {
          "output_type": "execute_result",
          "data": {
            "text/html": [
              "<div>\n",
              "<style scoped>\n",
              "    .dataframe tbody tr th:only-of-type {\n",
              "        vertical-align: middle;\n",
              "    }\n",
              "\n",
              "    .dataframe tbody tr th {\n",
              "        vertical-align: top;\n",
              "    }\n",
              "\n",
              "    .dataframe thead th {\n",
              "        text-align: right;\n",
              "    }\n",
              "</style>\n",
              "<table border=\"1\" class=\"dataframe\">\n",
              "  <thead>\n",
              "    <tr style=\"text-align: right;\">\n",
              "      <th></th>\n",
              "      <th>ds</th>\n",
              "      <th>y</th>\n",
              "    </tr>\n",
              "  </thead>\n",
              "  <tbody>\n",
              "    <tr>\n",
              "      <th>0</th>\n",
              "      <td>1960-01-01</td>\n",
              "      <td>6550</td>\n",
              "    </tr>\n",
              "    <tr>\n",
              "      <th>1</th>\n",
              "      <td>1960-02-01</td>\n",
              "      <td>8728</td>\n",
              "    </tr>\n",
              "    <tr>\n",
              "      <th>2</th>\n",
              "      <td>1960-03-01</td>\n",
              "      <td>12026</td>\n",
              "    </tr>\n",
              "    <tr>\n",
              "      <th>3</th>\n",
              "      <td>1960-04-01</td>\n",
              "      <td>14395</td>\n",
              "    </tr>\n",
              "    <tr>\n",
              "      <th>4</th>\n",
              "      <td>1960-05-01</td>\n",
              "      <td>14587</td>\n",
              "    </tr>\n",
              "    <tr>\n",
              "      <th>...</th>\n",
              "      <td>...</td>\n",
              "      <td>...</td>\n",
              "    </tr>\n",
              "    <tr>\n",
              "      <th>103</th>\n",
              "      <td>1968-08-01</td>\n",
              "      <td>16722</td>\n",
              "    </tr>\n",
              "    <tr>\n",
              "      <th>104</th>\n",
              "      <td>1968-09-01</td>\n",
              "      <td>14385</td>\n",
              "    </tr>\n",
              "    <tr>\n",
              "      <th>105</th>\n",
              "      <td>1968-10-01</td>\n",
              "      <td>21342</td>\n",
              "    </tr>\n",
              "    <tr>\n",
              "      <th>106</th>\n",
              "      <td>1968-11-01</td>\n",
              "      <td>17180</td>\n",
              "    </tr>\n",
              "    <tr>\n",
              "      <th>107</th>\n",
              "      <td>1968-12-01</td>\n",
              "      <td>14577</td>\n",
              "    </tr>\n",
              "  </tbody>\n",
              "</table>\n",
              "<p>108 rows × 2 columns</p>\n",
              "</div>"
            ],
            "text/plain": [
              "            ds      y\n",
              "0   1960-01-01   6550\n",
              "1   1960-02-01   8728\n",
              "2   1960-03-01  12026\n",
              "3   1960-04-01  14395\n",
              "4   1960-05-01  14587\n",
              "..         ...    ...\n",
              "103 1968-08-01  16722\n",
              "104 1968-09-01  14385\n",
              "105 1968-10-01  21342\n",
              "106 1968-11-01  17180\n",
              "107 1968-12-01  14577\n",
              "\n",
              "[108 rows x 2 columns]"
            ]
          },
          "metadata": {
            "tags": []
          },
          "execution_count": 12
        }
      ]
    },
    {
      "cell_type": "markdown",
      "metadata": {
        "id": "ebnHF5d3a-9J"
      },
      "source": [
        "Prophet model:"
      ]
    },
    {
      "cell_type": "code",
      "metadata": {
        "id": "kc7EzDLmnTSt",
        "colab": {
          "base_uri": "https://localhost:8080/"
        },
        "outputId": "9de92a9b-f63a-409f-b638-75903ac1af49"
      },
      "source": [
        "# fit prophet model on the car sales dataset\n",
        "\n",
        "from fbprophet import Prophet\n",
        "\n",
        "# define the model\n",
        "model = Prophet()\n",
        "# fit the model\n",
        "model.fit(df)"
      ],
      "execution_count": null,
      "outputs": [
        {
          "output_type": "stream",
          "text": [
            "INFO:fbprophet:Disabling weekly seasonality. Run prophet with weekly_seasonality=True to override this.\n",
            "INFO:fbprophet:Disabling daily seasonality. Run prophet with daily_seasonality=True to override this.\n"
          ],
          "name": "stderr"
        },
        {
          "output_type": "execute_result",
          "data": {
            "text/plain": [
              "<fbprophet.forecaster.Prophet at 0x7f2cd6dffeb8>"
            ]
          },
          "metadata": {
            "tags": []
          },
          "execution_count": 18
        }
      ]
    },
    {
      "cell_type": "markdown",
      "metadata": {
        "id": "1f2C7Svvn9vb"
      },
      "source": [
        "### Make an **in-sample forecast**\n",
        "\n",
        "It can be useful to make a forecast on historical data. That is, we can make a forecast on data used as input to train the model. Ideally, the model has seen the data before and would make a perfect prediction.\n",
        "\n",
        "This is called making an in-sample (in training set sample) forecast.\n",
        "\n",
        "A forecast is made by calling the predict() function and passing a DataFrame that contains one column named ‘ds‘ and rows with date-times for all the intervals to be predicted. "
      ]
    },
    {
      "cell_type": "code",
      "metadata": {
        "id": "3q0hI8dNptSw"
      },
      "source": [
        "# There are many ways to create this DataFrame. In this case, we will loop over one year of dates, \n",
        "# e.g. the last 12 months in the dataset, and create a string for each month. We will then convert \n",
        "# the list of dates into a DataFrame and convert the string values into date-time objects.\n",
        "\n",
        "\n",
        "# define the period for which we want a prediction\n",
        "future = list()\n",
        "for i in range(1, 13):\n",
        "\tdate = '1968-%02d' % i\n",
        "\tfuture.append([date])\n",
        "future = pd.DataFrame(future)\n",
        "future.columns = ['ds']\n",
        "future['ds']= pd.to_datetime(future['ds'])"
      ],
      "execution_count": null,
      "outputs": []
    },
    {
      "cell_type": "markdown",
      "metadata": {
        "id": "o1BXTYTccP5C"
      },
      "source": [
        "The result of the predict() function is a DataFrame that contains many columns. Perhaps the most important columns are the forecast date time (‘ds‘), the forecasted value (‘yhat‘), and the lower and upper bounds on the predicted value (‘yhat_lower‘ and ‘yhat_upper‘) that provide uncertainty of the forecast."
      ]
    },
    {
      "cell_type": "code",
      "metadata": {
        "id": "YxqKyrHNqNMy",
        "colab": {
          "base_uri": "https://localhost:8080/"
        },
        "outputId": "1e6f5a8a-cc94-494c-844a-b8fd2d6ea9ac"
      },
      "source": [
        "# summarize the forecast\n",
        "forecast = model.predict(future)\n",
        "\n",
        "print(forecast[['ds', 'yhat', 'yhat_lower', 'yhat_upper']].head())\n",
        "\n",
        "# The first five months of the prediction are reported and we can see that values are not too \n",
        "# different from the actual sales values in the dataset."
      ],
      "execution_count": null,
      "outputs": [
        {
          "output_type": "stream",
          "text": [
            "          ds          yhat    yhat_lower    yhat_upper\n",
            "0 1968-01-01  14334.737769  12729.780169  15985.141608\n",
            "1 1968-02-01  14905.955964  13365.625079  16414.571415\n",
            "2 1968-03-01  20842.150502  19377.437639  22389.166365\n",
            "3 1968-04-01  22870.095215  21178.710726  24433.832017\n",
            "4 1968-05-01  24176.211162  22589.981296  25775.032350\n"
          ],
          "name": "stdout"
        }
      ]
    },
    {
      "cell_type": "markdown",
      "metadata": {
        "id": "fPk9yGGTccAp"
      },
      "source": [
        "Prophet also provides a built-in tool for visualizing the prediction in the context of the training dataset.\n",
        "\n",
        "This can be achieved by calling the plot() function on the model and passing it a result DataFrame. It will create a plot of the training dataset and overlay the prediction with the upper and lower bounds for the forecast dates."
      ]
    },
    {
      "cell_type": "code",
      "metadata": {
        "colab": {
          "base_uri": "https://localhost:8080/",
          "height": 440
        },
        "id": "ceKno8Mlc8mi",
        "outputId": "8310852e-13f4-4442-9ef9-92339d8d50aa"
      },
      "source": [
        "# plot forecast\n",
        "model.plot(forecast)\n",
        "plt.show()\n",
        "\n",
        "# In the plot, the training data are represented as black dots and the forecast is a blue line with upper and \n",
        "# lower bounds in a blue shaded area.\n",
        "\n",
        "# We can see that the forecasted 12 months is a good match for the real observations, especially when the \n",
        "# bounds are taken into account."
      ],
      "execution_count": null,
      "outputs": [
        {
          "output_type": "display_data",
          "data": {
            "image/png": "[encoded data removed]",
            "text/plain": [
              "<Figure size 720x432 with 1 Axes>"
            ]
          },
          "metadata": {
            "tags": []
          }
        }
      ]
    },
    {
      "cell_type": "markdown",
      "metadata": {
        "id": "KlHNLrKDoM9D"
      },
      "source": [
        "### Make an **Out-of-Sample Forecast**\n",
        "\n",
        "In practice, we really want a forecast model to make a prediction beyond the training data. This is called an out-of-sample forecast.\n",
        "\n",
        "We can achieve this in the same way as an in-sample forecast and simply specify a different forecast period. \n",
        "\n",
        "In this case, let's choose a period beyond the end of the training dataset, starting 1969-01."
      ]
    },
    {
      "cell_type": "code",
      "metadata": {
        "id": "PYxgqG1Kqh8R",
        "colab": {
          "base_uri": "https://localhost:8080/",
          "height": 421
        },
        "outputId": "49b5f833-1fff-4831-eaaa-9b2b3ae8b434"
      },
      "source": [
        "# make an out-of-sample forecast\n",
        "\n",
        "# define the period for which we want a prediction\n",
        "future = list()\n",
        "for i in range(1, 13):\n",
        "\tdate = '1969-%02d' % i\n",
        "\tfuture.append([date])\n",
        "future = pd.DataFrame(future)\n",
        "future.columns = ['ds']\n",
        "future['ds']= pd.to_datetime(future['ds'])\n",
        "future"
      ],
      "execution_count": null,
      "outputs": [
        {
          "output_type": "execute_result",
          "data": {
            "text/html": [
              "<div>\n",
              "<style scoped>\n",
              "    .dataframe tbody tr th:only-of-type {\n",
              "        vertical-align: middle;\n",
              "    }\n",
              "\n",
              "    .dataframe tbody tr th {\n",
              "        vertical-align: top;\n",
              "    }\n",
              "\n",
              "    .dataframe thead th {\n",
              "        text-align: right;\n",
              "    }\n",
              "</style>\n",
              "<table border=\"1\" class=\"dataframe\">\n",
              "  <thead>\n",
              "    <tr style=\"text-align: right;\">\n",
              "      <th></th>\n",
              "      <th>ds</th>\n",
              "    </tr>\n",
              "  </thead>\n",
              "  <tbody>\n",
              "    <tr>\n",
              "      <th>0</th>\n",
              "      <td>1969-01-01</td>\n",
              "    </tr>\n",
              "    <tr>\n",
              "      <th>1</th>\n",
              "      <td>1969-02-01</td>\n",
              "    </tr>\n",
              "    <tr>\n",
              "      <th>2</th>\n",
              "      <td>1969-03-01</td>\n",
              "    </tr>\n",
              "    <tr>\n",
              "      <th>3</th>\n",
              "      <td>1969-04-01</td>\n",
              "    </tr>\n",
              "    <tr>\n",
              "      <th>4</th>\n",
              "      <td>1969-05-01</td>\n",
              "    </tr>\n",
              "    <tr>\n",
              "      <th>5</th>\n",
              "      <td>1969-06-01</td>\n",
              "    </tr>\n",
              "    <tr>\n",
              "      <th>6</th>\n",
              "      <td>1969-07-01</td>\n",
              "    </tr>\n",
              "    <tr>\n",
              "      <th>7</th>\n",
              "      <td>1969-08-01</td>\n",
              "    </tr>\n",
              "    <tr>\n",
              "      <th>8</th>\n",
              "      <td>1969-09-01</td>\n",
              "    </tr>\n",
              "    <tr>\n",
              "      <th>9</th>\n",
              "      <td>1969-10-01</td>\n",
              "    </tr>\n",
              "    <tr>\n",
              "      <th>10</th>\n",
              "      <td>1969-11-01</td>\n",
              "    </tr>\n",
              "    <tr>\n",
              "      <th>11</th>\n",
              "      <td>1969-12-01</td>\n",
              "    </tr>\n",
              "  </tbody>\n",
              "</table>\n",
              "</div>"
            ],
            "text/plain": [
              "           ds\n",
              "0  1969-01-01\n",
              "1  1969-02-01\n",
              "2  1969-03-01\n",
              "3  1969-04-01\n",
              "4  1969-05-01\n",
              "5  1969-06-01\n",
              "6  1969-07-01\n",
              "7  1969-08-01\n",
              "8  1969-09-01\n",
              "9  1969-10-01\n",
              "10 1969-11-01\n",
              "11 1969-12-01"
            ]
          },
          "metadata": {
            "tags": []
          },
          "execution_count": 20
        }
      ]
    },
    {
      "cell_type": "code",
      "metadata": {
        "id": "0263bvMQoR4A",
        "colab": {
          "base_uri": "https://localhost:8080/"
        },
        "outputId": "2895a917-b171-45cf-ac18-47e8015ae0ba"
      },
      "source": [
        "# use the model to make a forecast\n",
        "forecast = model.predict(future)\n",
        "\n",
        "# summarize the forecast\n",
        "print(forecast[['ds', 'yhat', 'yhat_lower', 'yhat_upper']].head())\n",
        "\n",
        "\n",
        "# The first five rows of the forecast are printed, although it is hard to get an idea of whether they are sensible or not."
      ],
      "execution_count": null,
      "outputs": [
        {
          "output_type": "stream",
          "text": [
            "          ds          yhat    yhat_lower    yhat_upper\n",
            "0 1969-01-01  15375.960093  13824.411011  16923.908290\n",
            "1 1969-02-01  16142.271673  14675.749824  17611.951720\n",
            "2 1969-03-01  21351.832640  19742.518249  22900.438969\n",
            "3 1969-04-01  23477.889811  21989.102737  25081.318574\n",
            "4 1969-05-01  24988.440907  23406.837736  26561.860199\n"
          ],
          "name": "stdout"
        }
      ]
    },
    {
      "cell_type": "code",
      "metadata": {
        "colab": {
          "base_uri": "https://localhost:8080/",
          "height": 440
        },
        "id": "7dOXBOcIdtU6",
        "outputId": "36345219-d30a-4a5b-feaf-314701ba4449"
      },
      "source": [
        "# plot forecast\n",
        "model.plot(forecast)\n",
        "plt.show()\n",
        "\n",
        "# The new one-year forecast does look sensible, at least by eye."
      ],
      "execution_count": null,
      "outputs": [
        {
          "output_type": "display_data",
          "data": {
            "image/png": "[encoded data removed]",
            "text/plain": [
              "<Figure size 720x432 with 1 Axes>"
            ]
          },
          "metadata": {
            "tags": []
          }
        }
      ]
    },
    {
      "cell_type": "markdown",
      "metadata": {
        "id": "7ObZlufJpYwJ"
      },
      "source": [
        "### Manually Evaluate Forecast Model\n",
        "\n",
        "\n",
        "It is critical to develop an objective estimate of a forecast model’s performance.\n",
        "\n",
        "This can be achieved by \n",
        "1. Holding some data back from the model, such as the last 12 months. \n",
        "2. Fitting the model on the first portion of the data. \n",
        "3. Using the model to make predictions on the held-pack portion\n",
        "4. Calculating an error measure, such as the mean absolute error across the forecasts. "
      ]
    },
    {
      "cell_type": "markdown",
      "metadata": {
        "id": "9Yj4kAZCe58z"
      },
      "source": [
        "**Evaluate a Prophet model on a hold-out dataset**\n",
        "\n",
        "We can do this with the car sales data by creating a new DataFrame for training, with the last 12 months removed."
      ]
    },
    {
      "cell_type": "code",
      "metadata": {
        "id": "ojlsFYQMpGc_",
        "colab": {
          "base_uri": "https://localhost:8080/"
        },
        "outputId": "b77b1746-5e7d-4f94-a0a4-5d064a8cbb1f"
      },
      "source": [
        "# create test dataset, remove last 12 months\n",
        "train = df.drop(df.index[-12:])\n",
        "print(train.tail())\n",
        "\n",
        "# Output reports the last few rows of the training dataset.\n",
        "# It confirms the training ends in the last month of 1967 and 1968 will be used as the hold-out dataset."
      ],
      "execution_count": null,
      "outputs": [
        {
          "output_type": "stream",
          "text": [
            "           ds      y\n",
            "91 1967-08-01  13434\n",
            "92 1967-09-01  13598\n",
            "93 1967-10-01  17187\n",
            "94 1967-11-01  16119\n",
            "95 1967-12-01  13713\n"
          ],
          "name": "stdout"
        }
      ]
    },
    {
      "cell_type": "markdown",
      "metadata": {
        "id": "4q-CfZE6skqf"
      },
      "source": [
        "A forecast can then be made on the last 12 months of date-times.\n",
        "\n",
        "Then, we can retrieve the forecast values and the expected values from the original dataset and calculate a mean absolute error metric."
      ]
    },
    {
      "cell_type": "code",
      "metadata": {
        "id": "mCKbvbM9pJ05",
        "colab": {
          "base_uri": "https://localhost:8080/"
        },
        "outputId": "88713cb1-e347-4421-96be-3667a13b3892"
      },
      "source": [
        "from sklearn.metrics import mean_absolute_error\n",
        "\n",
        "# calculate MAE between expected and predicted values for december\n",
        "y_true = df['y'][-12:].values\n",
        "y_pred = forecast['yhat'].values\n",
        "mae = mean_absolute_error(y_true, y_pred)\n",
        "print('MAE: %.3f' % mae)\n",
        "\n",
        "\n",
        "# We can see that the output error is approximately 1,369 sales, \n",
        "# which is much lower (better) than a naive persistence model that \n",
        "# achieves an error of 3,235 sales over the same period."
      ],
      "execution_count": null,
      "outputs": [
        {
          "output_type": "stream",
          "text": [
            "MAE: 1369.485\n"
          ],
          "name": "stdout"
        }
      ]
    },
    {
      "cell_type": "markdown",
      "metadata": {
        "id": "_r9b5L8OspTI"
      },
      "source": [
        "Now, plot the expected vs. predicted values to see how well the out-of-sample prediction matches the known values."
      ]
    },
    {
      "cell_type": "code",
      "metadata": {
        "id": "J9etLI_YpLte",
        "colab": {
          "base_uri": "https://localhost:8080/",
          "height": 265
        },
        "outputId": "98e1e2e7-f95e-4c1f-f65a-9a87223432cb"
      },
      "source": [
        "# plot expected vs actual\n",
        "plt.plot(y_true, label='Actual')\n",
        "plt.plot(y_pred, label='Predicted')\n",
        "plt.legend()\n",
        "plt.show()\n",
        "\n",
        "# We can see that the forecast is a good fit. The model has skill and forecast that looks sensible."
      ],
      "execution_count": null,
      "outputs": [
        {
          "output_type": "display_data",
          "data": {
            "image/png": "[encoded data removed]",
            "text/plain": [
              "<Figure size 432x288 with 1 Axes>"
            ]
          },
          "metadata": {
            "tags": [],
            "needs_background": "light"
          }
        }
      ]
    },
    {
      "cell_type": "markdown",
      "metadata": {
        "id": "D5GbUl0dvQ6d"
      },
      "source": [
        "## Other Useful Resources"
      ]
    },
    {
      "cell_type": "markdown",
      "metadata": {
        "id": "XmT46LuwvC9Y"
      },
      "source": [
        "**Causal Time Series**\n",
        "\n",
        "- https://towardsdatascience.com/inferring-causality-in-time-series-data-b8b75fe52c46\n",
        "\n",
        "- https://github.com/WillianFuks/tfcausalimpact\n",
        "\n",
        "\n",
        "**ARIMA**\n",
        "\n",
        "- https://towardsdatascience.com/an-end-to-end-project-on-time-series-analysis-and-forecasting-with-python-4835e6bf050b\n",
        "\n",
        "- https://towardsdatascience.com/understanding-arima-time-series-modeling-d99cd11be3f8\n",
        "\n",
        "**Prophet**\n",
        "\n",
        "- https://towardsdatascience.com/a-quick-start-of-time-series-forecasting-with-a-practical-example-using-fb-prophet-31c4447a2274\n",
        "\n",
        "- https://facebook.github.io/prophet/\n",
        "\n",
        "- https://towardsdatascience.com/time-series-prediction-using-prophet-in-python-35d65f626236\n",
        "\n",
        "**Change point detection**\n",
        "\n",
        "- https://medium.com/bigdatarepublic/dealing-with-abrupt-market-changes-in-your-analysis-a-brief-tutorial-on-time-series-change-point-3b624295afda\n",
        "\n",
        "**TS Forecasting with deep learning**\n",
        "https://machinelearningmastery.com/use-dropout-lstm-networks-time-series-forecasting/"
      ]
    }
  ]
}